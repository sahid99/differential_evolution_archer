{
 "cells": [
  {
   "cell_type": "markdown",
   "metadata": {},
   "source": [
    "# Evolución diferencial de un Arquero"
   ]
  },
  {
   "cell_type": "markdown",
   "metadata": {},
   "source": [
    "### Población inicial\n",
    "\n",
    "El primer paso es generar la __población inicial__. Cada individuo representa una solución, y es un vector con 2 entradas.\n",
    "$$ ind = [x_{},\\theta] $$\n",
    "El primer valor representa el impulso que se aplicará al arrojar la flecha. El segundo valor representa el angulo de tiro en radianes. \n",
    "\n",
    "Los valores de las variables deben estar dentro del rango:\n",
    "$$ 0 <= x_{} <= 900 $$\n",
    "$$ -3 <= \\theta <= 3 $$\n",
    "\n",
    "Para crear la población inicial se genera un arreglo de individuos de tamaño n. Donde cada individuo se genera con numeros aleatorios dentro de los rangos correspondientes de $ x_{}, \\theta$. \n",
    "\n",
    "### Fitness\n",
    "Para calcular el fitness de los individuos en la población, se requiere correr la simulación con el motor de físicas. Para cada individuo se lanzará una flecha con el impulso y el angulo del individuo. Después se toma la posición $(x_{},y_{})$ de donde colisionó la flecha. El error es la distancia del punto de colisión a la posición del objetivo. \n",
    "\n",
    "### Mutación\n",
    "\n",
    "La mutación se aplica a cada uno de los individuos. El primer paso consiste en seleccionar aleatoriamente tres individuos de la población: $x^{r_1}$, $x^{r_2}$ y $x^{r_3}$. Posterior a esto se hace una interpolación lineal del rango que maneja cada valor a $(0, 1)$. Después, el vector mutado $v^i$, se calcula como:\n",
    "$$ v^i = x^{r_1} + F (x^{r_2}-x^{r_3})$$\n",
    "donde $F$ es un número aleatorio entre 0 y 2.\n",
    "\n",
    "Como último paso se realiza una interpolación lineal para reastaurar los valores a su escala original. \n",
    "\n",
    "### Cruza\n",
    "\n",
    "La cruza combina al individuo $x^i$ con su correspondiente vector mutado $v^i$. Para lo cual se utiliza la siguiente ecuación:\n",
    "$$ u^i_j = \\left\\{ \\begin{matrix}  v_j^i & si \\quad r<CR \\quad or \\quad j=l \\\\  x_j^i & de \\quad otra \\quad forma \\end{matrix} \\right. $$\n",
    "\n",
    "donde $r$ es un número aleatorio entre 0 y 1, $CR$ es parámetro que sirve para ajustar el porcentaje de elementos que se toman del vector mutado, y finalmente, $l$ es un valor aleatorio que puede tomar los valores del conjunto $\\{1,...,n\\}$.\n",
    "\n",
    "### Selección\n",
    "\n",
    "En la selección, n torneo uno a uno es aplicado a $x^i$ y $u^i$, donde el mejor individuo de los dos pasa a la siguiente generación.  "
   ]
  },
  {
   "cell_type": "markdown",
   "metadata": {},
   "source": [
    "## Algoritmo de evolución diferencial\n",
    "\n",
    "- Inicializar la población de tamaño $n_{}$.\n",
    "- Calcular el fitness de la población. \n",
    "- Obtener al inividuo elite y su fitness:\n",
    "- Por un número determinado de pasos:\n",
    "    - Obtener población mutada.\n",
    "    - Calcular fitness de la población mutada.\n",
    "    - La población = selección entre la población y la población mutada.\n",
    "    - Calcular fitness de la población.\n",
    "    - Obtener al elite de la población.\n",
    "    - Hacer un lanzamiento de flecha con los valores del elite en el motor de físicas.\n",
    "    - Mostrar resultados. \n",
    "    \n"
   ]
  }
 ],
 "metadata": {
  "kernelspec": {
   "display_name": "Python 3",
   "language": "python",
   "name": "python3"
  },
  "language_info": {
   "codemirror_mode": {
    "name": "ipython",
    "version": 3
   },
   "file_extension": ".py",
   "mimetype": "text/x-python",
   "name": "python",
   "nbconvert_exporter": "python",
   "pygments_lexer": "ipython3",
   "version": "3.7.4"
  }
 },
 "nbformat": 4,
 "nbformat_minor": 2
}
